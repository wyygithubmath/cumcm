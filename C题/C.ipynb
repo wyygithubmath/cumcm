{
 "cells": [
  {
   "cell_type": "code",
   "execution_count": 1,
   "id": "66132efd",
   "metadata": {
    "ExecuteTime": {
     "end_time": "2024-03-14T13:37:18.103069Z",
     "start_time": "2024-03-14T13:37:14.267591Z"
    }
   },
   "outputs": [],
   "source": [
    "import numpy as np\n",
    "import pandas as pd"
   ]
  },
  {
   "cell_type": "code",
   "execution_count": 2,
   "id": "c54476ed",
   "metadata": {
    "ExecuteTime": {
     "end_time": "2024-03-14T13:41:34.524488Z",
     "start_time": "2024-03-14T13:40:29.261427Z"
    }
   },
   "outputs": [],
   "source": [
    "data_1 = pd.read_excel('./附件1.xlsx')\n",
    "data_2 = pd.read_excel('./附件2.xlsx')\n",
    "data_3 = pd.read_excel('./附件3.xlsx')\n",
    "data_4 = pd.read_excel('./附件4.xlsx')"
   ]
  },
  {
   "cell_type": "markdown",
   "source": [
    "# 附件 1 基本信息"
   ],
   "metadata": {
    "collapsed": false
   },
   "id": "a63196b36bd58de6"
  },
  {
   "cell_type": "code",
   "execution_count": 3,
   "outputs": [
    {
     "data": {
      "text/plain": "              单品编码    单品名称        分类编码 分类名称\n0  102900005115168    牛首生菜  1011010101  花叶类\n1  102900005115199   四川红香椿  1011010101  花叶类\n2  102900005115625  本地小毛白菜  1011010101  花叶类\n3  102900005115748     白菜苔  1011010101  花叶类\n4  102900005115762      苋菜  1011010101  花叶类",
      "text/html": "<div>\n<style scoped>\n    .dataframe tbody tr th:only-of-type {\n        vertical-align: middle;\n    }\n\n    .dataframe tbody tr th {\n        vertical-align: top;\n    }\n\n    .dataframe thead th {\n        text-align: right;\n    }\n</style>\n<table border=\"1\" class=\"dataframe\">\n  <thead>\n    <tr style=\"text-align: right;\">\n      <th></th>\n      <th>单品编码</th>\n      <th>单品名称</th>\n      <th>分类编码</th>\n      <th>分类名称</th>\n    </tr>\n  </thead>\n  <tbody>\n    <tr>\n      <th>0</th>\n      <td>102900005115168</td>\n      <td>牛首生菜</td>\n      <td>1011010101</td>\n      <td>花叶类</td>\n    </tr>\n    <tr>\n      <th>1</th>\n      <td>102900005115199</td>\n      <td>四川红香椿</td>\n      <td>1011010101</td>\n      <td>花叶类</td>\n    </tr>\n    <tr>\n      <th>2</th>\n      <td>102900005115625</td>\n      <td>本地小毛白菜</td>\n      <td>1011010101</td>\n      <td>花叶类</td>\n    </tr>\n    <tr>\n      <th>3</th>\n      <td>102900005115748</td>\n      <td>白菜苔</td>\n      <td>1011010101</td>\n      <td>花叶类</td>\n    </tr>\n    <tr>\n      <th>4</th>\n      <td>102900005115762</td>\n      <td>苋菜</td>\n      <td>1011010101</td>\n      <td>花叶类</td>\n    </tr>\n  </tbody>\n</table>\n</div>"
     },
     "execution_count": 3,
     "metadata": {},
     "output_type": "execute_result"
    }
   ],
   "source": [
    "data_1.head()"
   ],
   "metadata": {
    "collapsed": false,
    "ExecuteTime": {
     "end_time": "2024-03-14T14:44:54.836687Z",
     "start_time": "2024-03-14T14:44:54.822104Z"
    }
   },
   "id": "aeed805406adec80"
  },
  {
   "cell_type": "code",
   "execution_count": 8,
   "outputs": [
    {
     "data": {
      "text/plain": "(251, 4)"
     },
     "execution_count": 8,
     "metadata": {},
     "output_type": "execute_result"
    }
   ],
   "source": [
    "data_1.shape"
   ],
   "metadata": {
    "collapsed": false
   },
   "id": "46380c4d4907d41c"
  },
  {
   "cell_type": "code",
   "execution_count": 13,
   "outputs": [
    {
     "data": {
      "text/plain": "(251,)"
     },
     "execution_count": 13,
     "metadata": {},
     "output_type": "execute_result"
    }
   ],
   "source": [
    "data_1[\"单品编码\"].unique().shape"
   ],
   "metadata": {
    "collapsed": false
   },
   "id": "caa9f92264a6e1ce"
  },
  {
   "cell_type": "code",
   "execution_count": 14,
   "outputs": [
    {
     "data": {
      "text/plain": "(251,)"
     },
     "execution_count": 14,
     "metadata": {},
     "output_type": "execute_result"
    }
   ],
   "source": [
    "data_1[\"单品名称\"].unique().shape"
   ],
   "metadata": {
    "collapsed": false
   },
   "id": "838e8612c8769c01"
  },
  {
   "cell_type": "code",
   "execution_count": 16,
   "outputs": [
    {
     "data": {
      "text/plain": "array([1011010101, 1011010201, 1011010402, 1011010501, 1011010504,\n       1011010801])"
     },
     "execution_count": 16,
     "metadata": {},
     "output_type": "execute_result"
    }
   ],
   "source": [
    "data_1[\"分类编码\"].unique()"
   ],
   "metadata": {
    "collapsed": false
   },
   "id": "72336a82305d2eb6"
  },
  {
   "cell_type": "code",
   "execution_count": 10,
   "outputs": [
    {
     "data": {
      "text/plain": "array(['花叶类', '花菜类', '水生根茎类', '茄类', '辣椒类', '食用菌'], dtype=object)"
     },
     "execution_count": 10,
     "metadata": {},
     "output_type": "execute_result"
    }
   ],
   "source": [
    "data_1[\"分类名称\"].unique()"
   ],
   "metadata": {
    "collapsed": false
   },
   "id": "d61631ef430c4f72"
  },
  {
   "cell_type": "markdown",
   "source": [
    "# 附件 2 基本信息"
   ],
   "metadata": {
    "collapsed": false
   },
   "id": "37195233e59a26bb"
  },
  {
   "cell_type": "code",
   "execution_count": 33,
   "id": "ca9df2bc",
   "metadata": {},
   "outputs": [],
   "source": [
    "data_2[\"单品名称\"] = np.nan\n",
    "data_2[\"分类名称\"] = np.nan"
   ]
  },
  {
   "cell_type": "code",
   "execution_count": 34,
   "outputs": [
    {
     "data": {
      "text/plain": "        销售日期        扫码销售时间             单品编码  销量(千克)  销售单价(元/千克) 销售类型 是否打折销售  \\\n0 2020-07-01  09:15:07.924  102900005117056   0.396         7.6   销售      否   \n1 2020-07-01  09:17:27.295  102900005115960   0.849         3.2   销售      否   \n2 2020-07-01  09:17:33.905  102900005117056   0.409         7.6   销售      否   \n3 2020-07-01  09:19:45.450  102900005115823   0.421        10.0   销售      否   \n4 2020-07-01  09:20:23.686  102900005115908   0.539         8.0   销售      否   \n\n   单品名称  分类名称  \n0   NaN   NaN  \n1   NaN   NaN  \n2   NaN   NaN  \n3   NaN   NaN  \n4   NaN   NaN  ",
      "text/html": "<div>\n<style scoped>\n    .dataframe tbody tr th:only-of-type {\n        vertical-align: middle;\n    }\n\n    .dataframe tbody tr th {\n        vertical-align: top;\n    }\n\n    .dataframe thead th {\n        text-align: right;\n    }\n</style>\n<table border=\"1\" class=\"dataframe\">\n  <thead>\n    <tr style=\"text-align: right;\">\n      <th></th>\n      <th>销售日期</th>\n      <th>扫码销售时间</th>\n      <th>单品编码</th>\n      <th>销量(千克)</th>\n      <th>销售单价(元/千克)</th>\n      <th>销售类型</th>\n      <th>是否打折销售</th>\n      <th>单品名称</th>\n      <th>分类名称</th>\n    </tr>\n  </thead>\n  <tbody>\n    <tr>\n      <th>0</th>\n      <td>2020-07-01</td>\n      <td>09:15:07.924</td>\n      <td>102900005117056</td>\n      <td>0.396</td>\n      <td>7.6</td>\n      <td>销售</td>\n      <td>否</td>\n      <td>NaN</td>\n      <td>NaN</td>\n    </tr>\n    <tr>\n      <th>1</th>\n      <td>2020-07-01</td>\n      <td>09:17:27.295</td>\n      <td>102900005115960</td>\n      <td>0.849</td>\n      <td>3.2</td>\n      <td>销售</td>\n      <td>否</td>\n      <td>NaN</td>\n      <td>NaN</td>\n    </tr>\n    <tr>\n      <th>2</th>\n      <td>2020-07-01</td>\n      <td>09:17:33.905</td>\n      <td>102900005117056</td>\n      <td>0.409</td>\n      <td>7.6</td>\n      <td>销售</td>\n      <td>否</td>\n      <td>NaN</td>\n      <td>NaN</td>\n    </tr>\n    <tr>\n      <th>3</th>\n      <td>2020-07-01</td>\n      <td>09:19:45.450</td>\n      <td>102900005115823</td>\n      <td>0.421</td>\n      <td>10.0</td>\n      <td>销售</td>\n      <td>否</td>\n      <td>NaN</td>\n      <td>NaN</td>\n    </tr>\n    <tr>\n      <th>4</th>\n      <td>2020-07-01</td>\n      <td>09:20:23.686</td>\n      <td>102900005115908</td>\n      <td>0.539</td>\n      <td>8.0</td>\n      <td>销售</td>\n      <td>否</td>\n      <td>NaN</td>\n      <td>NaN</td>\n    </tr>\n  </tbody>\n</table>\n</div>"
     },
     "execution_count": 34,
     "metadata": {},
     "output_type": "execute_result"
    }
   ],
   "source": [
    "data_2.head()"
   ],
   "metadata": {
    "collapsed": false
   },
   "id": "f7609dab7e2d0b00"
  },
  {
   "cell_type": "code",
   "execution_count": 48,
   "id": "d6bf8ff3",
   "metadata": {},
   "outputs": [
    {
     "data": {
      "text/plain": "'泡泡椒(精品)'"
     },
     "execution_count": 48,
     "metadata": {},
     "output_type": "execute_result"
    }
   ],
   "source": [
    "data_1[\"单品名称\"][data_1[\"单品编码\"] == 102900005117056].values[0]"
   ]
  },
  {
   "cell_type": "code",
   "execution_count": 49,
   "outputs": [
    {
     "name": "stderr",
     "output_type": "stream",
     "text": [
      "/var/folders/z9/v61bj5gd57s86gccpfv0hj2m0000gn/T/ipykernel_3695/845298703.py:2: SettingWithCopyWarning: \n",
      "A value is trying to be set on a copy of a slice from a DataFrame\n",
      "\n",
      "See the caveats in the documentation: https://pandas.pydata.org/pandas-docs/stable/user_guide/indexing.html#returning-a-view-versus-a-copy\n",
      "  data_2[\"单品名称\"][data_2[\"单品编码\"] == i] = data_1[\"单品名称\"][data_1[\"单品编码\"] == i].values[0]\n"
     ]
    }
   ],
   "source": [
    "for i in data_1[\"单品编码\"]:\n",
    "    data_2[\"单品名称\"][data_2[\"单品编码\"] == i] = data_1[\"单品名称\"][data_1[\"单品编码\"] == i].values[0]"
   ],
   "metadata": {
    "collapsed": false
   },
   "id": "4250e93629e41a8e"
  },
  {
   "cell_type": "code",
   "execution_count": 50,
   "id": "9d66a5b5",
   "metadata": {},
   "outputs": [
    {
     "name": "stderr",
     "output_type": "stream",
     "text": [
      "/var/folders/z9/v61bj5gd57s86gccpfv0hj2m0000gn/T/ipykernel_3695/2674161642.py:2: SettingWithCopyWarning: \n",
      "A value is trying to be set on a copy of a slice from a DataFrame\n",
      "\n",
      "See the caveats in the documentation: https://pandas.pydata.org/pandas-docs/stable/user_guide/indexing.html#returning-a-view-versus-a-copy\n",
      "  data_2[\"分类名称\"][data_2[\"单品编码\"] == i] = data_1[\"分类名称\"][data_1[\"单品编码\"] == i].values[0]\n"
     ]
    }
   ],
   "source": [
    "for i in data_1[\"单品编码\"]:\n",
    "    data_2[\"分类名称\"][data_2[\"单品编码\"] == i] = data_1[\"分类名称\"][data_1[\"单品编码\"] == i].values[0]"
   ]
  },
  {
   "cell_type": "code",
   "execution_count": 51,
   "id": "548caf0c",
   "metadata": {},
   "outputs": [
    {
     "data": {
      "text/plain": "        销售日期        扫码销售时间             单品编码  销量(千克)  销售单价(元/千克) 销售类型 是否打折销售  \\\n0 2020-07-01  09:15:07.924  102900005117056   0.396         7.6   销售      否   \n1 2020-07-01  09:17:27.295  102900005115960   0.849         3.2   销售      否   \n2 2020-07-01  09:17:33.905  102900005117056   0.409         7.6   销售      否   \n3 2020-07-01  09:19:45.450  102900005115823   0.421        10.0   销售      否   \n4 2020-07-01  09:20:23.686  102900005115908   0.539         8.0   销售      否   \n\n      单品名称 分类名称  \n0  泡泡椒(精品)  辣椒类  \n1      大白菜  花叶类  \n2  泡泡椒(精品)  辣椒类  \n3      上海青  花叶类  \n4       菜心  花叶类  ",
      "text/html": "<div>\n<style scoped>\n    .dataframe tbody tr th:only-of-type {\n        vertical-align: middle;\n    }\n\n    .dataframe tbody tr th {\n        vertical-align: top;\n    }\n\n    .dataframe thead th {\n        text-align: right;\n    }\n</style>\n<table border=\"1\" class=\"dataframe\">\n  <thead>\n    <tr style=\"text-align: right;\">\n      <th></th>\n      <th>销售日期</th>\n      <th>扫码销售时间</th>\n      <th>单品编码</th>\n      <th>销量(千克)</th>\n      <th>销售单价(元/千克)</th>\n      <th>销售类型</th>\n      <th>是否打折销售</th>\n      <th>单品名称</th>\n      <th>分类名称</th>\n    </tr>\n  </thead>\n  <tbody>\n    <tr>\n      <th>0</th>\n      <td>2020-07-01</td>\n      <td>09:15:07.924</td>\n      <td>102900005117056</td>\n      <td>0.396</td>\n      <td>7.6</td>\n      <td>销售</td>\n      <td>否</td>\n      <td>泡泡椒(精品)</td>\n      <td>辣椒类</td>\n    </tr>\n    <tr>\n      <th>1</th>\n      <td>2020-07-01</td>\n      <td>09:17:27.295</td>\n      <td>102900005115960</td>\n      <td>0.849</td>\n      <td>3.2</td>\n      <td>销售</td>\n      <td>否</td>\n      <td>大白菜</td>\n      <td>花叶类</td>\n    </tr>\n    <tr>\n      <th>2</th>\n      <td>2020-07-01</td>\n      <td>09:17:33.905</td>\n      <td>102900005117056</td>\n      <td>0.409</td>\n      <td>7.6</td>\n      <td>销售</td>\n      <td>否</td>\n      <td>泡泡椒(精品)</td>\n      <td>辣椒类</td>\n    </tr>\n    <tr>\n      <th>3</th>\n      <td>2020-07-01</td>\n      <td>09:19:45.450</td>\n      <td>102900005115823</td>\n      <td>0.421</td>\n      <td>10.0</td>\n      <td>销售</td>\n      <td>否</td>\n      <td>上海青</td>\n      <td>花叶类</td>\n    </tr>\n    <tr>\n      <th>4</th>\n      <td>2020-07-01</td>\n      <td>09:20:23.686</td>\n      <td>102900005115908</td>\n      <td>0.539</td>\n      <td>8.0</td>\n      <td>销售</td>\n      <td>否</td>\n      <td>菜心</td>\n      <td>花叶类</td>\n    </tr>\n  </tbody>\n</table>\n</div>"
     },
     "execution_count": 51,
     "metadata": {},
     "output_type": "execute_result"
    }
   ],
   "source": [
    "data_2.head()"
   ]
  },
  {
   "cell_type": "code",
   "execution_count": 52,
   "id": "bdadcb94",
   "metadata": {},
   "outputs": [],
   "source": [
    "# 按销售日期分组并计算销售量之和\n",
    "daily_sales = data_2[data_2[\"分类名称\"]==\"辣椒类\"].groupby(data_2['销售日期'].dt.date)['销量(千克)'].sum()"
   ]
  },
  {
   "cell_type": "code",
   "execution_count": 53,
   "id": "755a9ab9",
   "metadata": {},
   "outputs": [
    {
     "data": {
      "text/plain": "销售日期\n2020-07-01    76.715\n2020-07-02    66.064\n2020-07-03    64.253\n2020-07-04    81.282\n2020-07-05    98.496\n               ...  \n2023-06-26    72.185\n2023-06-27    67.120\n2023-06-28    68.534\n2023-06-29    89.113\n2023-06-30    82.286\nName: 销量(千克), Length: 1085, dtype: float64"
     },
     "execution_count": 53,
     "metadata": {},
     "output_type": "execute_result"
    }
   ],
   "source": [
    "daily_sales"
   ]
  },
  {
   "cell_type": "code",
   "execution_count": 70,
   "id": "74ac8315",
   "metadata": {},
   "outputs": [],
   "source": [
    "daily_sales = data_2[data_2[\"分类名称\"]==\"花叶类\"].groupby(data_2['销售日期'].dt.date)['销量(千克)'].sum()"
   ]
  },
  {
   "cell_type": "code",
   "execution_count": 71,
   "id": "640b2a20",
   "metadata": {},
   "outputs": [
    {
     "data": {
      "text/plain": [
       "销售日期\n",
       "2020-07-01    205.402\n",
       "2020-07-02    198.362\n",
       "2020-07-03    190.779\n",
       "2020-07-04    236.587\n",
       "2020-07-05    223.899\n",
       "               ...   \n",
       "2023-06-26     80.524\n",
       "2023-06-27    127.278\n",
       "2023-06-28    130.182\n",
       "2023-06-29    135.090\n",
       "2023-06-30    130.464\n",
       "Name: 销量(千克), Length: 1085, dtype: float64"
      ]
     },
     "execution_count": 71,
     "metadata": {},
     "output_type": "execute_result"
    }
   ],
   "source": [
    "daily_sales"
   ]
  },
  {
   "cell_type": "code",
   "execution_count": 74,
   "id": "44d5b9f0",
   "metadata": {},
   "outputs": [],
   "source": [
    "daily_sales = data_2[data_2[\"分类名称\"]==\"水生根茎类\"].groupby(data_2['销售日期'])['销量(千克)'].sum()"
   ]
  },
  {
   "cell_type": "code",
   "execution_count": 75,
   "id": "b403ef52",
   "metadata": {},
   "outputs": [
    {
     "data": {
      "text/plain": [
       "销售日期\n",
       "2020-07-01     4.850\n",
       "2020-07-02     4.600\n",
       "2020-07-03     9.572\n",
       "2020-07-04     5.439\n",
       "2020-07-05     4.019\n",
       "               ...  \n",
       "2023-06-26    10.384\n",
       "2023-06-27    16.454\n",
       "2023-06-28    14.946\n",
       "2023-06-29    22.945\n",
       "2023-06-30    19.419\n",
       "Name: 销量(千克), Length: 1085, dtype: float64"
      ]
     },
     "execution_count": 75,
     "metadata": {},
     "output_type": "execute_result"
    }
   ],
   "source": [
    "daily_sales"
   ]
  },
  {
   "cell_type": "code",
   "execution_count": 78,
   "id": "9a41f2b6",
   "metadata": {},
   "outputs": [],
   "source": [
    "daily_sales = data_2[data_2[\"分类名称\"]==\"花菜类\"].groupby(data_2['销售日期'])['销量(千克)'].sum()"
   ]
  },
  {
   "cell_type": "code",
   "execution_count": 79,
   "id": "54e62735",
   "metadata": {},
   "outputs": [
    {
     "data": {
      "text/plain": [
       "销售日期\n",
       "2020-07-01    46.640\n",
       "2020-07-02    43.943\n",
       "2020-07-03    42.076\n",
       "2020-07-04    55.662\n",
       "2020-07-05    55.474\n",
       "               ...  \n",
       "2023-06-26     8.083\n",
       "2023-06-27    14.272\n",
       "2023-06-28    16.069\n",
       "2023-06-29    24.367\n",
       "2023-06-30    28.087\n",
       "Name: 销量(千克), Length: 1084, dtype: float64"
      ]
     },
     "execution_count": 79,
     "metadata": {},
     "output_type": "execute_result"
    }
   ],
   "source": [
    "daily_sales"
   ]
  },
  {
   "cell_type": "code",
   "execution_count": 80,
   "id": "c8eaf8a6",
   "metadata": {},
   "outputs": [],
   "source": [
    "daily_sales = data_2[data_2[\"分类名称\"]==\"食用菌\"].groupby(data_2['销售日期'])['销量(千克)'].sum()"
   ]
  },
  {
   "cell_type": "code",
   "execution_count": 81,
   "id": "43337694",
   "metadata": {},
   "outputs": [
    {
     "data": {
      "text/plain": [
       "销售日期\n",
       "2020-07-01    35.365\n",
       "2020-07-02    48.510\n",
       "2020-07-03    42.442\n",
       "2020-07-04    47.262\n",
       "2020-07-05    73.213\n",
       "               ...  \n",
       "2023-06-26    39.582\n",
       "2023-06-27    38.708\n",
       "2023-06-28    53.742\n",
       "2023-06-29    48.314\n",
       "2023-06-30    39.572\n",
       "Name: 销量(千克), Length: 1085, dtype: float64"
      ]
     },
     "execution_count": 81,
     "metadata": {},
     "output_type": "execute_result"
    }
   ],
   "source": [
    "daily_sales"
   ]
  },
  {
   "cell_type": "code",
   "execution_count": 87,
   "id": "683f9d66",
   "metadata": {},
   "outputs": [],
   "source": [
    "daily_sales = data_2[data_2[\"分类名称\"]==\"茄类\"].groupby(data_2['销售日期'])['销量(千克)'].sum()"
   ]
  },
  {
   "cell_type": "code",
   "execution_count": 88,
   "id": "1a275c77",
   "metadata": {},
   "outputs": [
    {
     "data": {
      "text/plain": [
       "销售日期\n",
       "2020-07-01    35.374\n",
       "2020-07-02    32.199\n",
       "2020-07-03    35.896\n",
       "2020-07-04    57.067\n",
       "2020-07-05    61.816\n",
       "               ...  \n",
       "2023-06-26    21.224\n",
       "2023-06-27     8.415\n",
       "2023-06-28    15.651\n",
       "2023-06-29    11.511\n",
       "2023-06-30    24.530\n",
       "Name: 销量(千克), Length: 1050, dtype: float64"
      ]
     },
     "execution_count": 88,
     "metadata": {},
     "output_type": "execute_result"
    }
   ],
   "source": [
    "daily_sales"
   ]
  },
  {
   "cell_type": "code",
   "execution_count": 93,
   "id": "e6f55be6",
   "metadata": {},
   "outputs": [
    {
     "data": {
      "text/plain": [
       "array([5. , 4.6, 3. , 3.4, 1.6, 1.4, 2. , 2.6, 6. , 4. , 7. ])"
      ]
     },
     "execution_count": 93,
     "metadata": {},
     "output_type": "execute_result"
    }
   ],
   "source": [
    "data_2[\"销售单价(元/千克)\"][data_2[\"单品编码\"]==102900005115168].unique()"
   ]
  },
  {
   "cell_type": "code",
   "execution_count": null,
   "id": "06f95350",
   "metadata": {},
   "outputs": [],
   "source": []
  }
 ],
 "metadata": {
  "kernelspec": {
   "display_name": "Python 3",
   "language": "python",
   "name": "python3"
  },
  "language_info": {
   "codemirror_mode": {
    "name": "ipython",
    "version": 3
   },
   "file_extension": ".py",
   "mimetype": "text/x-python",
   "name": "python",
   "nbconvert_exporter": "python",
   "pygments_lexer": "ipython3",
   "version": "3.8.8"
  }
 },
 "nbformat": 4,
 "nbformat_minor": 5
}
